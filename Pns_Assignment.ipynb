{
  "nbformat": 4,
  "nbformat_minor": 0,
  "metadata": {
    "colab": {
      "provenance": [],
      "authorship_tag": "ABX9TyPlJnGmbKOdcbflm9G9XPTR",
      "include_colab_link": true
    },
    "kernelspec": {
      "name": "python3",
      "display_name": "Python 3"
    },
    "language_info": {
      "name": "python"
    }
  },
  "cells": [
    {
      "cell_type": "markdown",
      "metadata": {
        "id": "view-in-github",
        "colab_type": "text"
      },
      "source": [
        "<a href=\"https://colab.research.google.com/github/ganeevsingh18/Pns_assignment/blob/main/Pns_Assignment.ipynb\" target=\"_parent\"><img src=\"https://colab.research.google.com/assets/colab-badge.svg\" alt=\"Open In Colab\"/></a>"
      ]
    },
    {
      "cell_type": "markdown",
      "source": [
        "Probability and Statistics Assignment"
      ],
      "metadata": {
        "id": "ByCsWcy0mPBi"
      }
    },
    {
      "cell_type": "code",
      "execution_count": null,
      "metadata": {
        "id": "K8SwlE2XmLUB",
        "colab": {
          "base_uri": "https://localhost:8080/",
          "height": 265
        },
        "outputId": "12216b9f-1fce-4a8d-ce93-d82ebbaa91ea"
      },
      "outputs": [
        {
          "output_type": "display_data",
          "data": {
            "text/plain": [
              "<Figure size 432x288 with 1 Axes>"
            ],
            "image/png": "[encoded data removed]"
          },
          "metadata": {
            "needs_background": "light"
          }
        }
      ],
      "source": [
        "import matplotlib.pyplot as plt\n",
        "import numpy as np\n",
        "\n",
        "xpoints = np.array([1, 8, 4, 6])\n",
        "ypoints = np.array([3, 10, 9, 3])\n",
        "\n",
        "plt.plot(xpoints, ypoints)\n",
        "plt.show()\n"
      ]
    },
    {
      "cell_type": "markdown",
      "source": [
        "Question 1"
      ],
      "metadata": {
        "id": "zwB_n0SjJEFA"
      }
    },
    {
      "cell_type": "code",
      "source": [
        "data=np.random.uniform(0,1,100)\n",
        "# print(data)\n",
        "# plt.hist(data)\n",
        "# plt.show()\n",
        "count,bins,ignored=plt.hist(data,color='b')\n",
        "# print(\"count\",count)\n",
        "# print(\"bins\",bins)\n",
        "pdf=count/sum(count)\n",
        "# print(\"pdf\",pdf)\n",
        "sfactor=0\n",
        "cdf=[]\n",
        "x=np.linspace(0,1)\n",
        "for i in range(len(pdf)):\n",
        "  sfactor=sfactor+pdf[i]\n",
        "  cdf.append(sfactor)\n",
        "plt.plot(bins[1:], cdf, label=\"CDF\",color='r')\n",
        "plt.legend()\n",
        "plt.show()"
      ],
      "metadata": {
        "colab": {
          "base_uri": "https://localhost:8080/",
          "height": 265
        },
        "id": "a5B7LPlC4yGU",
        "outputId": "fad8d908-1ec2-4a0c-efe0-9d82a572002f"
      },
      "execution_count": null,
      "outputs": [
        {
          "output_type": "display_data",
          "data": {
            "text/plain": [
              "<Figure size 432x288 with 1 Axes>"
            ],
            "image/png": "[encoded data removed]"
          },
          "metadata": {
            "needs_background": "light"
          }
        }
      ]
    },
    {
      "cell_type": "markdown",
      "source": [
        "Question 2"
      ],
      "metadata": {
        "id": "yNpCh7XrJI0Y"
      }
    },
    {
      "cell_type": "code",
      "source": [
        "data = np.random.uniform(75,110,100)\n",
        "# print(sorted(data))\n",
        "count, bins, ignored = plt.hist(data, 100 )\n",
        "pdf = count / sum(count)\n",
        "cdf = np.cumsum(pdf)\n",
        "plt.plot(bins[1:], cdf, label=\"CDF\")\n",
        "#plt.plot(bins, np.ones_like(bins), linewidth=2, color='r')\n",
        "plt.legend()\n",
        "plt.show()"
      ],
      "metadata": {
        "colab": {
          "base_uri": "https://localhost:8080/",
          "height": 265
        },
        "id": "1qhs4JCy9Pvw",
        "outputId": "b86f9c0e-39f1-4031-8bb8-519d10747b48"
      },
      "execution_count": null,
      "outputs": [
        {
          "output_type": "display_data",
          "data": {
            "text/plain": [
              "<Figure size 432x288 with 1 Axes>"
            ],
            "image/png": "[encoded data removed]"
          },
          "metadata": {
            "needs_background": "light"
          }
        }
      ]
    },
    {
      "cell_type": "code",
      "source": [
        "m = int(input())\n",
        "p = float(input())"
      ],
      "metadata": {
        "id": "rkdicMFjjYiv",
        "colab": {
          "base_uri": "https://localhost:8080/"
        },
        "outputId": "d80cc7fc-3b66-472d-999b-95a0588c79e7"
      },
      "execution_count": null,
      "outputs": [
        {
          "name": "stdout",
          "output_type": "stream",
          "text": [
            "1000\n",
            "0.7\n"
          ]
        }
      ]
    },
    {
      "cell_type": "markdown",
      "source": [
        "Question 3"
      ],
      "metadata": {
        "id": "r6pMRcPNJMUI"
      }
    },
    {
      "cell_type": "code",
      "source": [
        "import matplotlib.pyplot as plt\n",
        "from scipy.stats import uniform\n",
        "import numpy as np\n",
        "data_uniform = uniform.rvs(size=m, loc=0, scale=1)\n",
        "# print(data_uniform)\n",
        "bernoulli = np.where(data_uniform < p, 1, 0)\n",
        "# print(bernoulli.min())\n",
        "# print(bernoulli.max())\n",
        "bin_edges = np.arange(bernoulli.min()-0.5, bernoulli.max()+1.5, 1)\n",
        "# print(bin_edges)\n",
        "plt.hist(bernoulli, bins = bin_edges, rwidth = 0.8)\n",
        "plt.xticks(np.arange(bernoulli.min(), bernoulli.max()+1, 1))\n",
        "plt.xlabel('value')\n",
        "plt.ylabel('frequency')\n",
        "plt.show()"
      ],
      "metadata": {
        "colab": {
          "base_uri": "https://localhost:8080/",
          "height": 279
        },
        "id": "7qHwPgD9Bswa",
        "outputId": "47d42507-9721-4d18-88db-4beae55b3b49"
      },
      "execution_count": null,
      "outputs": [
        {
          "output_type": "display_data",
          "data": {
            "text/plain": [
              "<Figure size 432x288 with 1 Axes>"
            ],
            "image/png": "[encoded data removed]"
          },
          "metadata": {
            "needs_background": "light"
          }
        }
      ]
    },
    {
      "cell_type": "markdown",
      "source": [
        "Question 4"
      ],
      "metadata": {
        "id": "MlSfMqDPJPXs"
      }
    },
    {
      "cell_type": "code",
      "source": [
        "m=int(input())\n",
        "p=float(input())"
      ],
      "metadata": {
        "colab": {
          "base_uri": "https://localhost:8080/"
        },
        "id": "-C0yrG9eGEOS",
        "outputId": "a6ee3f0f-3bf6-4b45-e5a3-400686839c09"
      },
      "execution_count": null,
      "outputs": [
        {
          "name": "stdout",
          "output_type": "stream",
          "text": [
            "1000\n",
            "0.05\n"
          ]
        }
      ]
    },
    {
      "cell_type": "code",
      "source": [
        "import numpy as np\n",
        "geometric = np.random.geometric(p=p,size=m)\n",
        "bin_edges = np.arange(geometric.min()-0.5, geometric.max()+1.5, 1)\n",
        "plt.hist(geometric, bins = bin_edges, rwidth = 0.8)\n",
        "plt.xticks(np.arange(geometric.min(), geometric.max()+1, 1))\n",
        "plt.xlabel('value')\n",
        "plt.ylabel('frequency')\n",
        "plt.show()\n",
        "#I have found that the given solution is more accurate"
      ],
      "metadata": {
        "colab": {
          "base_uri": "https://localhost:8080/",
          "height": 279
        },
        "id": "FN9uIbMJDX6X",
        "outputId": "770bd1e8-1b55-4150-eefa-4b03f771c3bc"
      },
      "execution_count": null,
      "outputs": [
        {
          "output_type": "display_data",
          "data": {
            "text/plain": [
              "<Figure size 432x288 with 1 Axes>"
            ],
            "image/png": "[encoded data removed]"
          },
          "metadata": {
            "needs_background": "light"
          }
        }
      ]
    },
    {
      "cell_type": "code",
      "source": [
        "m=int(input())\n",
        "n=int(input())\n",
        "p=float(input())"
      ],
      "metadata": {
        "colab": {
          "base_uri": "https://localhost:8080/"
        },
        "id": "Gb5s84g_MRrn",
        "outputId": "7e43d9e2-76b3-42b1-9c94-fe2d0fddf607"
      },
      "execution_count": null,
      "outputs": [
        {
          "name": "stdout",
          "output_type": "stream",
          "text": [
            "1000\n",
            "10\n",
            "0.6\n"
          ]
        }
      ]
    },
    {
      "cell_type": "markdown",
      "source": [
        "Question 5"
      ],
      "metadata": {
        "id": "kHBGDlxrKm-1"
      }
    },
    {
      "cell_type": "code",
      "source": [
        "import numpy as np\n",
        "binomial = np.random.binomial(n,p,size=m)\n",
        "print(binomial)\n",
        "bin_edges = np.arange(binomial.min()-0.5, binomial.max()+1.5, 1)\n",
        "plt.hist(binomial, bins = bin_edges, rwidth = 0.8)\n",
        "plt.xticks(np.arange(binomial.min(), binomial.max()+1, 1))\n",
        "plt.xlabel('value')\n",
        "plt.ylabel('frequency')\n",
        "plt.show()"
      ],
      "metadata": {
        "colab": {
          "base_uri": "https://localhost:8080/",
          "height": 279
        },
        "id": "6X6N8iqUKqoC",
        "outputId": "b06b410e-4f2e-4c05-9cb9-3baf7b230782"
      },
      "execution_count": null,
      "outputs": [
        {
          "output_type": "display_data",
          "data": {
            "text/plain": [
              "<Figure size 432x288 with 1 Axes>"
            ],
            "image/png": "[encoded data removed]"
          },
          "metadata": {
            "needs_background": "light"
          }
        }
      ]
    },
    {
      "cell_type": "markdown",
      "source": [
        "Question 6"
      ],
      "metadata": {
        "id": "hLgYG-Q9PXj1"
      }
    },
    {
      "cell_type": "code",
      "source": [
        "m=int(input())\n",
        "alpha=float(input())"
      ],
      "metadata": {
        "colab": {
          "base_uri": "https://localhost:8080/"
        },
        "id": "E9oFSabnOYeC",
        "outputId": "a3292280-d87a-48c2-b6b7-41c649911d10"
      },
      "execution_count": null,
      "outputs": [
        {
          "name": "stdout",
          "output_type": "stream",
          "text": [
            "1000\n",
            "1.5\n"
          ]
        }
      ]
    },
    {
      "cell_type": "code",
      "source": [
        "import numpy as np\n",
        "poisson = np.random.poisson(alpha,size=m)\n",
        "bin_edges = np.arange(poisson.min()-0.5, binomial.max()+1.5, 1)\n",
        "plt.hist(poisson, bins = bin_edges, rwidth = 0.8)\n",
        "plt.xticks(np.arange(binomial.min(), binomial.max()+1, 1))\n",
        "plt.xlabel('value')\n",
        "plt.ylabel('frequency')\n",
        "plt.show()"
      ],
      "metadata": {
        "colab": {
          "base_uri": "https://localhost:8080/",
          "height": 279
        },
        "id": "ktYU03tOOSug",
        "outputId": "a7450720-d907-4ecc-935a-c0d6c033e012"
      },
      "execution_count": null,
      "outputs": [
        {
          "output_type": "display_data",
          "data": {
            "text/plain": [
              "<Figure size 432x288 with 1 Axes>"
            ],
            "image/png": "[encoded data removed]"
          },
          "metadata": {
            "needs_background": "light"
          }
        }
      ]
    },
    {
      "cell_type": "markdown",
      "source": [
        "Question 7"
      ],
      "metadata": {
        "id": "mSZBiB-XPu5e"
      }
    },
    {
      "cell_type": "code",
      "source": [
        "m=int(input())\n",
        "mu=float(input())\n",
        "sig=float(input())\n"
      ],
      "metadata": {
        "colab": {
          "base_uri": "https://localhost:8080/"
        },
        "id": "MIsdK5ZoV41A",
        "outputId": "ebe49705-8f5f-4e89-f1ca-99d23914679e"
      },
      "execution_count": null,
      "outputs": [
        {
          "name": "stdout",
          "output_type": "stream",
          "text": [
            "1000\n",
            "0\n",
            "2\n"
          ]
        }
      ]
    },
    {
      "cell_type": "code",
      "source": [
        "from matplotlib import pyplot as mp\n",
        "import random\n",
        "import numpy as np\n",
        "\n",
        "\n",
        "nums=[]\n",
        "for i in range(m):\n",
        "    nums.append(random.gauss(mu, sig))\n",
        "mp.hist(nums, bins= 100)\n",
        "mp.show()"
      ],
      "metadata": {
        "colab": {
          "base_uri": "https://localhost:8080/",
          "height": 265
        },
        "id": "YzaZaLHwPwOw",
        "outputId": "bbcb9e5b-71f2-4ec1-9a8f-2bd8e347a43f"
      },
      "execution_count": null,
      "outputs": [
        {
          "output_type": "display_data",
          "data": {
            "text/plain": [
              "<Figure size 432x288 with 1 Axes>"
            ],
            "image/png": "[encoded data removed]"
          },
          "metadata": {
            "needs_background": "light"
          }
        }
      ]
    },
    {
      "cell_type": "markdown",
      "source": [
        "Question 8\n"
      ],
      "metadata": {
        "id": "VwlVyFiUWZXh"
      }
    },
    {
      "cell_type": "code",
      "source": [
        "m=int(input())\n",
        "lda=float(input())"
      ],
      "metadata": {
        "colab": {
          "base_uri": "https://localhost:8080/"
        },
        "id": "sDqTY66VWbD2",
        "outputId": "9b5048ac-360f-407b-e01d-7901f0a0b16c"
      },
      "execution_count": null,
      "outputs": [
        {
          "name": "stdout",
          "output_type": "stream",
          "text": [
            "1000\n",
            "2\n"
          ]
        }
      ]
    },
    {
      "cell_type": "code",
      "source": [
        "from matplotlib import pyplot as mp\n",
        "from numpy import random\n",
        "\n",
        "# print(data)\n",
        "data = random.exponential(1.0/lda, size=m)\n",
        "mp.hist(data, bins = 100)\n",
        "mp.show()"
      ],
      "metadata": {
        "colab": {
          "base_uri": "https://localhost:8080/",
          "height": 268
        },
        "id": "4qKGNkwSWgE6",
        "outputId": "5309325d-2696-4613-fa6a-5efa9b0cf2e7"
      },
      "execution_count": null,
      "outputs": [
        {
          "output_type": "display_data",
          "data": {
            "text/plain": [
              "<Figure size 432x288 with 1 Axes>"
            ],
            "image/png": "[encoded data removed]"
          },
          "metadata": {
            "needs_background": "light"
          }
        }
      ]
    },
    {
      "cell_type": "markdown",
      "source": [
        "Question 9"
      ],
      "metadata": {
        "id": "EJBqStiSXItz"
      }
    },
    {
      "cell_type": "code",
      "source": [
        "m = int(input())\n",
        "p = float(input())"
      ],
      "metadata": {
        "colab": {
          "base_uri": "https://localhost:8080/"
        },
        "id": "cFI8l5A6YYgP",
        "outputId": "12112d58-78f2-42fe-9e64-f7fb4a6da465"
      },
      "execution_count": null,
      "outputs": [
        {
          "name": "stdout",
          "output_type": "stream",
          "text": [
            "1000\n",
            "0.7\n"
          ]
        }
      ]
    },
    {
      "cell_type": "code",
      "source": [
        "from scipy.stats import bernoulli\n",
        "import matplotlib.pyplot as plt\n",
        "import random\n",
        "import numpy as np\n",
        "\n",
        "data_bern = bernoulli.rvs(size=m, p=p)\n",
        "x = [i for i in range(1,m+1)]\n",
        "y = []\n",
        "\n",
        "for i in range(1,m+1):\n",
        "  y.append(sum(data_bern[:i])/i)\n",
        "\n",
        "plt.ylim(0,1)\n",
        "plt.plot(x,y)\n",
        "plt.xlabel('Samples')\n",
        "plt.ylabel('sample mean')\n",
        "plt.show()\n",
        "\n",
        "plt.plot(x,data_bern)\n",
        "plt.xlabel('Samples')\n",
        "plt.ylabel('p')\n",
        "plt.show()"
      ],
      "metadata": {
        "colab": {
          "base_uri": "https://localhost:8080/",
          "height": 545
        },
        "id": "CSwSfWr1XKOn",
        "outputId": "8ab78ecd-9de7-4643-90cd-ea4688157556"
      },
      "execution_count": null,
      "outputs": [
        {
          "output_type": "display_data",
          "data": {
            "text/plain": [
              "<Figure size 432x288 with 1 Axes>"
            ],
            "image/png": "[encoded data removed]"
          },
          "metadata": {
            "needs_background": "light"
          }
        },
        {
          "output_type": "display_data",
          "data": {
            "text/plain": [
              "<Figure size 432x288 with 1 Axes>"
            ],
            "image/png": "[encoded data removed]"
          },
          "metadata": {
            "needs_background": "light"
          }
        }
      ]
    }
  ]
}